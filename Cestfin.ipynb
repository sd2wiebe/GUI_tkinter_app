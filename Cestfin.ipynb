{
 "cells": [
  {
   "cell_type": "markdown",
   "id": "5d892494",
   "metadata": {},
   "source": [
    "## Tkinter GUI\n",
    "### NHL/MLB result lookup by date and team"
   ]
  },
  {
   "cell_type": "code",
   "execution_count": 4,
   "id": "c66138be",
   "metadata": {},
   "outputs": [],
   "source": [
    "import tkinter as tk\n",
    "from tkinter import *\n",
    "import numpy as np\n",
    "import pandas as pd\n",
    "import requests  \n",
    "from datetime import date as dt\n",
    "from splinter import Browser\n",
    "from bs4 import BeautifulSoup as soup\n",
    "from datetime import date, timedelta\n",
    "from webdriver_manager.chrome import ChromeDriverManager\n",
    "import time\n",
    "import re "
   ]
  },
  {
   "cell_type": "code",
   "execution_count": 5,
   "id": "4bbeb091",
   "metadata": {
    "scrolled": true
   },
   "outputs": [],
   "source": [
    "root = tk.Tk()\n",
    "root.title(\"NHL/MLB Result Lookup\")\n",
    "canvas = tk.Canvas(root, height= 700, width= 800)\n",
    "canvas.pack()\n",
    "photo1 = PhotoImage(file=\"giphy.gif\")\n",
    "frame = tk.Frame(root, bg=\"white\")\n",
    "frame.place(relx=0.1, rely=0.1, relwidth=0.8, relheight=0.46) "
   ]
  },
  {
   "cell_type": "code",
   "execution_count": 6,
   "id": "b3c8fb7a",
   "metadata": {},
   "outputs": [],
   "source": [
    "image = tk.Label(frame, image=photo1)\n",
    "image.place(relx=.3,rely=0)"
   ]
  },
  {
   "cell_type": "code",
   "execution_count": 7,
   "id": "0a31926b",
   "metadata": {},
   "outputs": [],
   "source": [
    "lower_frame = tk.Frame(root, bg=\"white\", bd=10)\n",
    "lower_frame.place(relx=0.1,rely=0.59, relwidth=.8, relheight=.2)\n",
    "label1 = tk.Label(lower_frame)\n",
    "label1.pack()"
   ]
  },
  {
   "cell_type": "markdown",
   "id": "9182e6bd",
   "metadata": {},
   "source": [
    "### Dropdown items"
   ]
  },
  {
   "cell_type": "code",
   "execution_count": 8,
   "id": "af87051c",
   "metadata": {},
   "outputs": [],
   "source": [
    "##DD/MM/YYYY\n",
    "\n",
    "days = []\n",
    "i=1\n",
    "while i < 10:\n",
    "    num = \"0\"+str(i)\n",
    "    days.append(num)\n",
    "    i = i +1\n",
    "while i <32:\n",
    "    days.append(str(i))\n",
    "    i = i + 1\n",
    "    \n",
    "months = []\n",
    "i = 1\n",
    "while i <10:\n",
    "    num = \"0\"+str(i)\n",
    "    months.append(num)\n",
    "    i = i+1\n",
    "while i <13:\n",
    "    months.append(str(i))\n",
    "    i = i + 1\n",
    "\n",
    "years = [*range(2022,1900,-1)]"
   ]
  },
  {
   "cell_type": "markdown",
   "id": "9a679701",
   "metadata": {},
   "source": [
    "### MLB team list\n"
   ]
  },
  {
   "cell_type": "code",
   "execution_count": 9,
   "id": "f47d96d8",
   "metadata": {},
   "outputs": [],
   "source": [
    "##MLB team list\n",
    "mlb_list = [\"Arizona Diamondbacks\",\"Atlanta Braves\",\"Baltimore Orioles\",\"Boston Red Sox\",\"Chicago White Sox\",\"Chicago Cubs\",\"Cincinnati Reds\",\"Cleveland Indians\",\"Colorado Rockies\",\"Detroit Tigers\",\"Houston Astros\",\"Kansas City Royals\",\"Los Angeles Angels\",\"Los Angeles Dodgers\",\n",
    "\"Miami Marlins\",\"Milwaukee Brewers\",\"Minnesota Twins\",\"New York Yankees\",\"New York Mets\",\"Oakland Athletics\",\"Philadelphia Phillies\",\"Pittsburgh Pirates\",\"San Diego Padres\",\"San Francisco Giants\",\"Seattle Mariners\",\"St. Louis Cardinals\",\"Tampa Bay Rays\",\"Texas Rangers\",\"Toronto Blue Jays\",\"Washington Nationals\"]"
   ]
  },
  {
   "cell_type": "markdown",
   "id": "abcab8d7",
   "metadata": {},
   "source": [
    "### NHL team list\n"
   ]
  },
  {
   "cell_type": "code",
   "execution_count": 10,
   "id": "e4ce06ea",
   "metadata": {},
   "outputs": [],
   "source": [
    "nhl_teams = pd.read_csv(\"nhlteams.csv\", header=None)\n",
    "nhl = []\n",
    "for team in nhl_teams[0]:\n",
    "    nhl.append(team)"
   ]
  },
  {
   "cell_type": "markdown",
   "id": "6211c5fb",
   "metadata": {},
   "source": [
    "### Date Dropdown boxes"
   ]
  },
  {
   "cell_type": "code",
   "execution_count": 11,
   "id": "9af4bfec",
   "metadata": {},
   "outputs": [],
   "source": [
    "##Days dropdown menu\n",
    "tkvardays = StringVar(root)\n",
    "tkvardays.set(days[0])\n",
    "popupMenu = OptionMenu(frame, tkvardays, *days)\n",
    "Label(frame, text=\"Day\").place(relx=0 ,rely=0 , relwidth=.1 ,relheight=.1 )\n",
    "popupMenu.place(relx=0,rely=.1, relwidth=.1 ,relheight=.1 )\n",
    "\n",
    "##Months dropdown menu\n",
    "tkvarmnth = StringVar(root)\n",
    "tkvarmnth.set(months[0])\n",
    "popupMenu = OptionMenu(frame, tkvarmnth, *months)\n",
    "Label(frame, text=\"Month\").place(relx=.1 ,rely=0 , relwidth=.1 ,relheight=.1 )\n",
    "popupMenu.place(relx=.1,rely=.1, relwidth=.1 ,relheight=.1 )\n",
    "\n",
    "##Years dropdown menu\n",
    "tkvaryr = StringVar(root)\n",
    "tkvaryr.set(years[0])\n",
    "popupMenu = OptionMenu(frame, tkvaryr, *years)\n",
    "Label(frame, text=\"Year\").place(relx=.2 ,rely=0 , relwidth=.1 ,relheight=.1 )\n",
    "popupMenu.place(relx=.2,rely=.1, relwidth=.1 ,relheight=.1 )"
   ]
  },
  {
   "cell_type": "markdown",
   "id": "d61be852",
   "metadata": {},
   "source": [
    "### Sport selection box -> creates new dropdown based on selection"
   ]
  },
  {
   "cell_type": "code",
   "execution_count": 12,
   "id": "05cf8ba3",
   "metadata": {},
   "outputs": [],
   "source": [
    "##Team list function\n",
    "tkvarteam = StringVar(root)\n",
    "def selected(event):\n",
    "    if tkvar.get() == \"Hockey\":\n",
    "        print(\"hockey\")\n",
    "        \n",
    "        tkvarteam.set(nhl[0])\n",
    "        popupMenu = OptionMenu(frame, tkvarteam, *nhl, command=set_team)\n",
    "        Label(frame, text=\"NHL teams\").place(relx=.05 ,rely=.6 , relwidth=.2 ,relheight=.1 )\n",
    "        popupMenu.place(relx= .05,rely=.7 , relwidth=.2 ,relheight=.1 )\n",
    "        \n",
    "    else:\n",
    "        \n",
    "        tkvarteam.set(mlb_list[0])\n",
    "        popupMenu = OptionMenu(frame, tkvarteam, *mlb_list, command=set_team)\n",
    "        Label(frame, text=\"Mlb Teams\").place(relx=.05 ,rely=.6 , relwidth=.2 ,relheight=.1 )\n",
    "        popupMenu.place(relx= .05,rely=.7 , relwidth=.2 ,relheight=.1 )\n",
    "\n",
    "## Team setting function\n",
    "def set_team(event):\n",
    "    print(tkvarteam.get())\n",
    "    \n",
    "## Pick sport -> trigger team list dropdown\n",
    "tkvar = StringVar(root)\n",
    "sports = [\"Baseball\", \"Hockey\"]\n",
    "tkvar.set(sports[0])\n",
    "popupMenu = OptionMenu(frame, tkvar, *sports, command=selected)\n",
    "Label(frame, text=\"Choose a sport\").place(relx=.05 ,rely=.3 , relwidth=.2 ,relheight=.1 )\n",
    "popupMenu.place(relx=.05 ,rely=.4, relwidth=.2 ,relheight=.1 )"
   ]
  },
  {
   "cell_type": "markdown",
   "id": "480c9478",
   "metadata": {},
   "source": [
    "### NHL/MLB results function"
   ]
  },
  {
   "cell_type": "code",
   "execution_count": 13,
   "id": "04f4a99c",
   "metadata": {},
   "outputs": [],
   "source": [
    "def Did_They_win(day,month,year,sport,team):\n",
    "    if sport == \"Baseball\":\n",
    "        sport = \"https://www.baseball-reference.com/boxes/?year=\"\n",
    "    else:\n",
    "        sport = \"https://www.hockey-reference.com/boxscores/?year=\"\n",
    "\n",
    "    executable_path = {'executable_path': ChromeDriverManager().install()}\n",
    "    browser = Browser('chrome', **executable_path, headless=True)\n",
    "    team = team+\" \"\n",
    "    url = f'{sport}{year}&month={month}&day={day}'\n",
    "    browser.visit(url)\n",
    "    time.sleep(3)\n",
    "    html = browser.html\n",
    "    news_soup = soup(html, 'html.parser')\n",
    "    yes = news_soup.find(\"div\", {\"class\":\"game_summaries\"})\n",
    "    yes1 = yes.find_all(\"tr\", {\"class\":\"winner\"})\n",
    "    yes2 = yes.find_all(\"tr\", {\"class\":\"loser\"})\n",
    "    browser.quit()\n",
    "    losers = []\n",
    "    for y in yes2:\n",
    "        losers.append(y.text)\n",
    "        wha = [re.sub('\\s+', '', x) for x in losers]\n",
    "        wha1 = [re.sub(r'(\\w)([A-Z])', r'\\1 \\2', x) for x in wha]\n",
    "        wha2 = [re.sub('([0-9])', r\" \\1\", x) for x in wha1]\n",
    "        wha3 = [re.sub('  Final| Final|Final| OT| SO', \"\", x) for x in wha2]\n",
    "    winners = []\n",
    "    for y in yes1:\n",
    "        winners.append(y.text)\n",
    "        win = [re.sub('\\s+', '', x) for x in winners]\n",
    "        win1 = [re.sub(r'(\\w)([A-Z])', r'\\1 \\2', x) for x in win]\n",
    "        win2 = [re.sub('([0-9])', r\" \\1\", x) for x in win1]\n",
    "        win3 = [re.sub('  Final| Final|Final| OT| SO', \"\", x) for x in win2]\n",
    "    r1 = pd.DataFrame({\"winner\":[],\"Goals\":[]})\n",
    "    i = 1\n",
    "    for line in win3:\n",
    "        team1 = line[:-1]\n",
    "        goals = line[-1:]\n",
    "        r1.loc[i] = [team1, goals]\n",
    "        i = i+1\n",
    "    r2 = pd.DataFrame({\"loser\":[],\"Goals\":[]})\n",
    "    p = 1\n",
    "    for line in wha3:\n",
    "        team1 = line[:-1]\n",
    "        goals = line[-1:]\n",
    "        r2.loc[p] = [team1, goals]\n",
    "        p = p+1\n",
    "    \n",
    "    \n",
    "    kkkk = pd.DataFrame({\"Winning Team\":[],\"W score\":[], \"Losing Team\":[], \"L score\":[] })\n",
    "    kkkk[\"Winning Team\"] = r1[\"winner\"]\n",
    "    kkkk[\"Losing Team\"] = r2[\"loser\"]\n",
    "    kkkk[\"W score\"] = r1[\"Goals\"]\n",
    "    kkkk[\"L score\"] = r2[\"Goals\"]\n",
    "   \n",
    "    t = 1\n",
    "    while t <= len(kkkk[\"Winning Team\"]):\n",
    "        if kkkk[\"Winning Team\"][t] == team:\n",
    "            lgoals = kkkk['W score'][t]\n",
    "            ogoals = kkkk[\"L score\"][t]\n",
    "            lteam = kkkk[\"Losing Team\"][t]\n",
    "            label1['text'] = f\"On {year}-{month}-{day} The {team}beat the {lteam} {lgoals} - {ogoals}\"\n",
    "            t = 2+ len(kkkk[\"Winning Team\"])\n",
    "        elif kkkk[\"Losing Team\"][t] == team:\n",
    "                lgoals = kkkk['W score'][t]                \n",
    "                ogoals = kkkk[\"L score\"][t]\n",
    "                lteam = kkkk[\"Winning Team\"][t]\n",
    "                label1['text'] = f\"On {year}-{month}-{day} The {team}lost to the {lteam} {lgoals} - {ogoals}\"\n",
    "                t = 2 + len(kkkk[\"Winning Team\"])\n",
    "        else:\n",
    "            t = t+1\n",
    "    if t == 1 + len(kkkk[\"Winning Team\"]):\n",
    "        label1['text'] = f\"{team}did not play that day\"\n",
    "  "
   ]
  },
  {
   "cell_type": "markdown",
   "id": "e0ed3edb",
   "metadata": {},
   "source": [
    "### Search button"
   ]
  },
  {
   "cell_type": "code",
   "execution_count": 14,
   "id": "1cd7b6e6",
   "metadata": {},
   "outputs": [],
   "source": [
    "button = tk.Button(frame, text=\"Click me, bitch\", command= lambda: Did_They_win(tkvardays.get(),tkvarmnth.get(),tkvaryr.get(),tkvar.get(),tkvarteam.get()))\n",
    "button.place(relx=.6,rely=.63)"
   ]
  },
  {
   "cell_type": "markdown",
   "id": "2784b71d",
   "metadata": {},
   "source": [
    "### fin"
   ]
  },
  {
   "cell_type": "code",
   "execution_count": null,
   "id": "61f48671",
   "metadata": {},
   "outputs": [
    {
     "name": "stdout",
     "output_type": "stream",
     "text": [
      "hockey\n",
      "Toronto Maple Leafs\n"
     ]
    },
    {
     "name": "stderr",
     "output_type": "stream",
     "text": [
      "\n",
      "\n",
      "====== WebDriver manager ======\n",
      "Current google-chrome version is 100.0.4896\n",
      "Get LATEST chromedriver version for 100.0.4896 google-chrome\n",
      "Driver [C:\\Users\\Owner\\.wdm\\drivers\\chromedriver\\win32\\100.0.4896.60\\chromedriver.exe] found in cache\n"
     ]
    },
    {
     "name": "stdout",
     "output_type": "stream",
     "text": [
      "hockey\n",
      "Chicago Blackhawks\n",
      "Calgary Flames\n"
     ]
    },
    {
     "name": "stderr",
     "output_type": "stream",
     "text": [
      "\n",
      "\n",
      "====== WebDriver manager ======\n",
      "Current google-chrome version is 100.0.4896\n",
      "Get LATEST chromedriver version for 100.0.4896 google-chrome\n",
      "Driver [C:\\Users\\Owner\\.wdm\\drivers\\chromedriver\\win32\\100.0.4896.60\\chromedriver.exe] found in cache\n",
      "Exception in Tkinter callback\n",
      "Traceback (most recent call last):\n",
      "  File \"C:\\Users\\Owner\\AppData\\Local\\Programs\\Python\\Python310\\lib\\tkinter\\__init__.py\", line 1921, in __call__\n",
      "    return self.func(*args)\n",
      "  File \"C:\\Users\\Owner\\AppData\\Local\\Temp\\ipykernel_12368\\1113547214.py\", line 1, in <lambda>\n",
      "    button = tk.Button(frame, text=\"Click me, bitch\", command= lambda: Did_They_win(tkvardays.get(),tkvarmnth.get(),tkvaryr.get(),tkvar.get(),tkvarteam.get()))\n",
      "  File \"C:\\Users\\Owner\\AppData\\Local\\Temp\\ipykernel_12368\\1840532890.py\", line 35, in Did_They_win\n",
      "    for line in win3:\n",
      "UnboundLocalError: local variable 'win3' referenced before assignment\n"
     ]
    },
    {
     "name": "stdout",
     "output_type": "stream",
     "text": [
      "Minnesota Wild\n"
     ]
    },
    {
     "name": "stderr",
     "output_type": "stream",
     "text": [
      "\n",
      "\n",
      "====== WebDriver manager ======\n",
      "Current google-chrome version is 100.0.4896\n",
      "Get LATEST chromedriver version for 100.0.4896 google-chrome\n",
      "Driver [C:\\Users\\Owner\\.wdm\\drivers\\chromedriver\\win32\\100.0.4896.60\\chromedriver.exe] found in cache\n",
      "Exception in Tkinter callback\n",
      "Traceback (most recent call last):\n",
      "  File \"C:\\Users\\Owner\\AppData\\Local\\Programs\\Python\\Python310\\lib\\tkinter\\__init__.py\", line 1921, in __call__\n",
      "    return self.func(*args)\n",
      "  File \"C:\\Users\\Owner\\AppData\\Local\\Temp\\ipykernel_12368\\1113547214.py\", line 1, in <lambda>\n",
      "    button = tk.Button(frame, text=\"Click me, bitch\", command= lambda: Did_They_win(tkvardays.get(),tkvarmnth.get(),tkvaryr.get(),tkvar.get(),tkvarteam.get()))\n",
      "  File \"C:\\Users\\Owner\\AppData\\Local\\Temp\\ipykernel_12368\\1840532890.py\", line 35, in Did_They_win\n",
      "    for line in win3:\n",
      "UnboundLocalError: local variable 'win3' referenced before assignment\n"
     ]
    },
    {
     "name": "stdout",
     "output_type": "stream",
     "text": [
      "Calgary Flames\n"
     ]
    },
    {
     "name": "stderr",
     "output_type": "stream",
     "text": [
      "\n",
      "\n",
      "====== WebDriver manager ======\n",
      "Current google-chrome version is 100.0.4896\n",
      "Get LATEST chromedriver version for 100.0.4896 google-chrome\n",
      "Driver [C:\\Users\\Owner\\.wdm\\drivers\\chromedriver\\win32\\100.0.4896.60\\chromedriver.exe] found in cache\n"
     ]
    }
   ],
   "source": [
    "#create main loop\n",
    "root.mainloop()"
   ]
  },
  {
   "cell_type": "code",
   "execution_count": null,
   "id": "35e3766e",
   "metadata": {},
   "outputs": [],
   "source": []
  },
  {
   "cell_type": "code",
   "execution_count": null,
   "id": "36acc9c7",
   "metadata": {},
   "outputs": [],
   "source": []
  }
 ],
 "metadata": {
  "kernelspec": {
   "display_name": "Python 3 (ipykernel)",
   "language": "python",
   "name": "python3"
  },
  "language_info": {
   "codemirror_mode": {
    "name": "ipython",
    "version": 3
   },
   "file_extension": ".py",
   "mimetype": "text/x-python",
   "name": "python",
   "nbconvert_exporter": "python",
   "pygments_lexer": "ipython3",
   "version": "3.10.4"
  }
 },
 "nbformat": 4,
 "nbformat_minor": 5
}
